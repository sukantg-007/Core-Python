{
 "cells": [
  {
   "cell_type": "markdown",
   "metadata": {},
   "source": [
    "# Decorator Function"
   ]
  },
  {
   "cell_type": "code",
   "execution_count": 7,
   "metadata": {},
   "outputs": [
    {
     "name": "stdout",
     "output_type": "stream",
     "text": [
      "Hello AAA Good Morning\n",
      "Hello BBB Good Morning\n",
      "AAA ...Hey Good Morning\n",
      "[1, 2, 3]\n"
     ]
    }
   ],
   "source": [
    "def wish(name):\n",
    "    print(\"Hello\",name,\"Good Morning\")\n",
    "\n",
    "wish(\"AAA\")\n",
    "# step 1-decorator accept a function\n",
    "# step 2-decorator create a inner function which enhance the fuction\n",
    "# step 3-return enhanced function\n",
    "\n",
    "def decor(func):\n",
    "    def inner(name):\n",
    "        if name =='AAA':\n",
    "            print(name,\"...Hey Good Morning\")\n",
    "        else:\n",
    "            func(name)\n",
    "    return inner\n",
    "\n",
    "\n",
    "\n",
    "@decor\n",
    "def wish(name):\n",
    "    print(\"Hello\",name,\"Good Morning\")\n",
    "\n",
    "wish(\"BBB\")\n",
    "wish(\"AAA\")\n",
    "l=[1,2,3,4]\n",
    "l.remove(4)\n",
    "print(l)\n"
   ]
  },
  {
   "cell_type": "code",
   "execution_count": null,
   "metadata": {},
   "outputs": [],
   "source": [
    "def enhdivide(func):\n",
    "    def inner(x,y):\n",
    "        print(\"I am dividing now..\")\n",
    "        if y==0:\n",
    "            print(\"Oops...division not possible\")\n",
    "        else:\n",
    "            func(x,y)\n",
    "    return inner\n",
    "\n",
    "def divide(x,y):\n",
    "    print(\"Division : \",x/y)\n",
    "\n",
    "# divide(10,2)\n",
    "# divide(10,0)\n",
    "#divide(0,12)\n",
    "\n",
    "decordivide=enhdivide(divide)\n",
    "\n",
    "# divide(10,0)\n",
    "decordivide(10,0)"
   ]
  },
  {
   "cell_type": "code",
   "execution_count": 2,
   "metadata": {},
   "outputs": [
    {
     "name": "stdout",
     "output_type": "stream",
     "text": [
      "12\n"
     ]
    }
   ],
   "source": [
    "a=input(\"Enter a number\")\n",
    "print(a)"
   ]
  },
  {
   "cell_type": "code",
   "execution_count": 9,
   "metadata": {},
   "outputs": [
    {
     "name": "stdout",
     "output_type": "stream",
     "text": [
      "0\n",
      "I am multiplying\n",
      "120\n"
     ]
    }
   ],
   "source": [
    "import functools as ft\n",
    "\n",
    "def listmult(l):\n",
    "    return ft.reduce(lambda x,y:x*y,l)\n",
    "\n",
    "\n",
    "\n",
    "def enhlistmult(funt):\n",
    "    def inner(l):\n",
    "        print(\"I am multiplying\")\n",
    "        for i in l:\n",
    "            if i==0:\n",
    "                l.remove(i)\n",
    "        return funt(l)\n",
    "    return inner\n",
    "\n",
    "listmult2=enhlistmult(listmult)\n",
    "l=eval(input(\"Enter a list : \"))\n",
    "print(listmult(l))\n",
    "print(listmult2(l))\n"
   ]
  },
  {
   "cell_type": "markdown",
   "metadata": {},
   "source": [
    "# Decorator chaining"
   ]
  },
  {
   "cell_type": "code",
   "execution_count": 3,
   "metadata": {},
   "outputs": [
    {
     "name": "stdout",
     "output_type": "stream",
     "text": [
      "400\n"
     ]
    }
   ],
   "source": [
    "def decor_1(func):\n",
    "    def inner():\n",
    "        x=func()\n",
    "        return x*2\n",
    "    return inner\n",
    "\n",
    "def decor_2(func):\n",
    "    def inner():\n",
    "        x=func()\n",
    "        return x*x\n",
    "    return inner\n",
    "    \n",
    "@decor_2\n",
    "@decor_1\n",
    "def f1():\n",
    "    return 10\n",
    "\n",
    "print(f1())"
   ]
  },
  {
   "cell_type": "code",
   "execution_count": 6,
   "metadata": {},
   "outputs": [
    {
     "ename": "TypeError",
     "evalue": "'NoneType' object is not callable",
     "output_type": "error",
     "traceback": [
      "\u001b[1;31m---------------------------------------------------------------------------\u001b[0m",
      "\u001b[1;31mTypeError\u001b[0m                                 Traceback (most recent call last)",
      "\u001b[1;32mC:\\Users\\VEDANT~2\\AppData\\Local\\Temp/ipykernel_12108/604253857.py\u001b[0m in \u001b[0;36m<module>\u001b[1;34m\u001b[0m\n\u001b[0;32m     17\u001b[0m     \u001b[0mprint\u001b[0m\u001b[1;33m(\u001b[0m\u001b[1;34m\"Hello\"\u001b[0m\u001b[1;33m,\u001b[0m\u001b[0mname\u001b[0m\u001b[1;33m,\u001b[0m\u001b[1;34m\"Good Morning\"\u001b[0m\u001b[1;33m)\u001b[0m\u001b[1;33m\u001b[0m\u001b[1;33m\u001b[0m\u001b[0m\n\u001b[0;32m     18\u001b[0m \u001b[1;33m\u001b[0m\u001b[0m\n\u001b[1;32m---> 19\u001b[1;33m \u001b[0mwish\u001b[0m\u001b[1;33m(\u001b[0m\u001b[1;34m\"AAA\"\u001b[0m\u001b[1;33m)\u001b[0m\u001b[1;33m\u001b[0m\u001b[1;33m\u001b[0m\u001b[0m\n\u001b[0m",
      "\u001b[1;31mTypeError\u001b[0m: 'NoneType' object is not callable"
     ]
    }
   ],
   "source": [
    "def dec_1(func):\n",
    "    def inner(name):\n",
    "        print(\"I am executing wish..\")\n",
    "        func(name)\n",
    "        print(\"I am ending the wish\")\n",
    "    return inner\n",
    "\n",
    "def dec_2(func):\n",
    "    def inner(name):\n",
    "        print(\"I am inside another decorator\")\n",
    "        func(name)\n",
    "        print(\"I am ending the decorator\")\n",
    "    return inner\n",
    "\n",
    "@dec_2\n",
    "@dec_1\n",
    "def wish(name):\n",
    "    print(\"Hello\",name,\"Good Morning\")\n",
    "\n",
    "wish(\"AAA\")"
   ]
  }
 ],
 "metadata": {
  "interpreter": {
   "hash": "1fb55eeb694ecd958ee6cad186cb9906af405d203ad196fced457e2b60296c29"
  },
  "kernelspec": {
   "display_name": "Python 3.9.6 64-bit",
   "language": "python",
   "name": "python3"
  },
  "language_info": {
   "codemirror_mode": {
    "name": "ipython",
    "version": 3
   },
   "file_extension": ".py",
   "mimetype": "text/x-python",
   "name": "python",
   "nbconvert_exporter": "python",
   "pygments_lexer": "ipython3",
   "version": "3.10.0"
  },
  "orig_nbformat": 4
 },
 "nbformat": 4,
 "nbformat_minor": 2
}
