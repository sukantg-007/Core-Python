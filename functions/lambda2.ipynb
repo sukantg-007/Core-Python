{
 "cells": [
  {
   "cell_type": "code",
   "execution_count": 4,
   "metadata": {},
   "outputs": [
    {
     "name": "stdout",
     "output_type": "stream",
     "text": [
      "[1, 1, 2, 3, 5]\n",
      "[1, 1, 2, 3, 5, 8]\n"
     ]
    }
   ],
   "source": [
    "def fseries(n):\n",
    "    x,y=1,1\n",
    "    l=[x,y]\n",
    "    for i in range(2,n):\n",
    "        temp=x\n",
    "        x=y\n",
    "        y=temp+y\n",
    "        l.append(y)\n",
    "    return l\n",
    "print(fseries(5))\n",
    "print(fseries(6))"
   ]
  },
  {
   "cell_type": "code",
   "execution_count": 7,
   "metadata": {},
   "outputs": [
    {
     "name": "stdout",
     "output_type": "stream",
     "text": [
      "[1, 1, 2, 3, 5, 8]\n"
     ]
    }
   ],
   "source": [
    "def rfseries(n,l=[1,1]):    \n",
    "    if n==1:\n",
    "        return l        \n",
    "    l.append(l[-2]+l[-1])\n",
    "    return rfseries(n-1,l)\n",
    "print(rfseries(5))"
   ]
  },
  {
   "cell_type": "code",
   "execution_count": 13,
   "metadata": {},
   "outputs": [
    {
     "data": {
      "text/plain": [
       "[1, 1, 2, 3, 5, 8, 13, 21]"
      ]
     },
     "execution_count": 13,
     "metadata": {},
     "output_type": "execute_result"
    }
   ],
   "source": [
    "lrfseries=lambda n,l=[1,1]:l if n==1 else lrfseries(n-1,l+[l[-2]+l[-1]])\n",
    "lrfseries(7)"
   ]
  },
  {
   "cell_type": "code",
   "execution_count": 19,
   "metadata": {},
   "outputs": [
    {
     "name": "stdout",
     "output_type": "stream",
     "text": [
      "[1, 2, 3, 4, 5, 6, 7, 8, 9, 10]\n",
      "[2, 4, 6, 8, 10]\n",
      "(1, 3, 5, 7, 9)\n"
     ]
    }
   ],
   "source": [
    "#filter(function,sequence[list,tuple or string])\n",
    "l=[x for x in range(1,11)]\n",
    "print(l)\n",
    "\n",
    "def even(n):\n",
    "    return n%2==0\n",
    "\n",
    "def odd(n):\n",
    "    return n%2!=0\n",
    "\n",
    "el=list(filter(even,l))\n",
    "print(el)\n",
    "et=tuple(filter(odd,l))\n",
    "print(et)"
   ]
  },
  {
   "cell_type": "code",
   "execution_count": 22,
   "metadata": {},
   "outputs": [
    {
     "name": "stdout",
     "output_type": "stream",
     "text": [
      "[2, 4, 6, 8, 10]\n",
      "(1, 3, 5, 7, 9)\n"
     ]
    }
   ],
   "source": [
    "l=[x for x in range(1,11)]\n",
    "el=list(filter(lambda x:x%2==0, l))\n",
    "print(el)\n",
    "ot=tuple(filter(lambda x:x%2!=0, l))\n",
    "print(ot)"
   ]
  },
  {
   "cell_type": "code",
   "execution_count": 24,
   "metadata": {},
   "outputs": [
    {
     "name": "stdout",
     "output_type": "stream",
     "text": [
      "[1, 2, 3, 4, 5, 6, 7, 8, 9, 10]\n",
      "[2, 4, 6, 8, 10, 12, 14, 16, 18, 20]\n",
      "[1, 4, 9, 16, 25, 36, 49, 64, 81, 100]\n"
     ]
    }
   ],
   "source": [
    "#map(function, sequence[list,truple,str])\n",
    "def doubleit(n):\n",
    "    return n*2\n",
    "def squareit(n):\n",
    "    return n**2\n",
    "\n",
    "l=[x for x in range(1,11)]\n",
    "dbll=list(map(doubleit,l))\n",
    "sql=list(map(squareit,l))\n",
    "print(l)\n",
    "print(dbll)\n",
    "print(sql)"
   ]
  },
  {
   "cell_type": "code",
   "execution_count": 25,
   "metadata": {},
   "outputs": [
    {
     "name": "stdout",
     "output_type": "stream",
     "text": [
      "[1, 2, 3, 4, 5, 6, 7, 8, 9, 10]\n",
      "[2, 4, 6, 8, 10, 12, 14, 16, 18, 20]\n",
      "[1, 4, 9, 16, 25, 36, 49, 64, 81, 100]\n"
     ]
    }
   ],
   "source": [
    "l=[x for x in range(1,11)]\n",
    "sql=list(map(lambda x:x**2,l))\n",
    "dbll=list(map(lambda x:x*2,l))\n",
    "print(l)\n",
    "print(dbll)\n",
    "print(sql)"
   ]
  }
 ],
 "metadata": {
  "interpreter": {
   "hash": "1fb55eeb694ecd958ee6cad186cb9906af405d203ad196fced457e2b60296c29"
  },
  "kernelspec": {
   "display_name": "Python 3.9.6 64-bit",
   "language": "python",
   "name": "python3"
  },
  "language_info": {
   "codemirror_mode": {
    "name": "ipython",
    "version": 3
   },
   "file_extension": ".py",
   "mimetype": "text/x-python",
   "name": "python",
   "nbconvert_exporter": "python",
   "pygments_lexer": "ipython3",
   "version": "3.9.6"
  },
  "orig_nbformat": 4
 },
 "nbformat": 4,
 "nbformat_minor": 2
}
