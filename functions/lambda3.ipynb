{
 "cells": [
  {
   "cell_type": "code",
   "execution_count": 7,
   "metadata": {},
   "outputs": [
    {
     "name": "stdout",
     "output_type": "stream",
     "text": [
      "[2, 6, 10, 14, 18, 22, 26, 30, 34, 38, 42]\n",
      "242\n",
      "242\n",
      "242\n",
      "242\n"
     ]
    }
   ],
   "source": [
    "l=[x+x for x in range(1,22,2)]\n",
    "print(l)\n",
    "\n",
    "def suml(l):\n",
    "    return sum(l)\n",
    "print(suml(l))\n",
    "\n",
    "lsuml=lambda x:sum(x)\n",
    "print(lsuml(l))\n",
    "\n",
    "def sumxy(x,y):\n",
    "    return x+y\n",
    "\n",
    "import functools as ft\n",
    "rs=ft.reduce(sumxy,l)\n",
    "lrs=ft.reduce(lambda x,y:x+y,l)\n",
    "print(rs)\n",
    "print(lrs)\n"
   ]
  },
  {
   "cell_type": "code",
   "execution_count": 27,
   "metadata": {},
   "outputs": [
    {
     "name": "stdout",
     "output_type": "stream",
     "text": [
      "[1, 2, 3, 4, 5, 6, 7, 8, 9, 10]\n",
      "30\n",
      "30\n",
      "30\n"
     ]
    }
   ],
   "source": [
    "l=[x for x in range(1,11)]\n",
    "print(l)\n",
    "def evensum(l):\n",
    "    sum=0\n",
    "    for i in l:\n",
    "        sum=sum+i if i%2==0 else sum\n",
    "    return sum\n",
    "\n",
    "levensum=lambda l:sum([i for i in l if i%2==0])\n",
    "\n",
    "revensum=ft.reduce(lambda x,y:x+y, [x for x in l if x%2==0])\n",
    "print(evensum(l))\n",
    "print(levensum(l))\n",
    "print(revensum)"
   ]
  },
  {
   "cell_type": "code",
   "execution_count": 31,
   "metadata": {},
   "outputs": [
    {
     "name": "stdout",
     "output_type": "stream",
     "text": [
      "Good Evening  Vedanta\n",
      "Good Evening  AAA\n",
      "Good Evening  BBB\n"
     ]
    },
    {
     "ename": "NameError",
     "evalue": "name 'f1' is not defined",
     "output_type": "error",
     "traceback": [
      "\u001b[1;31m---------------------------------------------------------------------------\u001b[0m",
      "\u001b[1;31mNameError\u001b[0m                                 Traceback (most recent call last)",
      "\u001b[1;32m<ipython-input-31-4b1ec156399d>\u001b[0m in \u001b[0;36m<module>\u001b[1;34m\u001b[0m\n\u001b[0;32m     14\u001b[0m \u001b[0mwish\u001b[0m\u001b[1;33m(\u001b[0m\u001b[1;34m\"BBB\"\u001b[0m\u001b[1;33m)\u001b[0m\u001b[1;33m\u001b[0m\u001b[1;33m\u001b[0m\u001b[0m\n\u001b[0;32m     15\u001b[0m \u001b[1;33m\u001b[0m\u001b[0m\n\u001b[1;32m---> 16\u001b[1;33m \u001b[0mf1\u001b[0m\u001b[1;33m(\u001b[0m\u001b[1;34m\"CCC\"\u001b[0m\u001b[1;33m)\u001b[0m\u001b[1;33m\u001b[0m\u001b[1;33m\u001b[0m\u001b[0m\n\u001b[0m",
      "\u001b[1;31mNameError\u001b[0m: name 'f1' is not defined"
     ]
    }
   ],
   "source": [
    "#function aliasing\n",
    "#duplicate name to function\n",
    "\n",
    "def f1(name):\n",
    "    print(\"Good Evening \",name)\n",
    "\n",
    "f1(\"Vedanta\")\n",
    "\n",
    "wish=f1\n",
    "wish(\"AAA\")\n",
    "\n",
    "del f1\n",
    "\n",
    "wish(\"BBB\")\n",
    "\n",
    "f1(\"CCC\")"
   ]
  },
  {
   "cell_type": "code",
   "execution_count": 1,
   "metadata": {},
   "outputs": [
    {
     "name": "stdout",
     "output_type": "stream",
     "text": [
      "Start of outer function\n",
      "End of outer function\n"
     ]
    }
   ],
   "source": [
    "#nested fuction\n",
    "\n",
    "def outer():\n",
    "    print(\"Start of outer function\")\n",
    "    def inner():\n",
    "        outer()\n",
    "        print(\"I am inner functin\")    \n",
    "    print(\"End of outer function\")\n",
    "    #inner()\n",
    "\n",
    "outer()\n",
    "#inner()\n"
   ]
  },
  {
   "cell_type": "code",
   "execution_count": 8,
   "metadata": {},
   "outputs": [
    {
     "name": "stdout",
     "output_type": "stream",
     "text": [
      "Start of outer function\n",
      "End of outer function\n",
      "I am inner functin\n",
      "Start of outer function\n",
      "End of outer function\n",
      "<function outer.<locals>.inner at 0x0000019DF95CA0D0>\n"
     ]
    }
   ],
   "source": [
    "def outer():\n",
    "    print(\"Start of outer function\")\n",
    "    def inner():       \n",
    "        print(\"I am inner functin\")    \n",
    "    print(\"End of outer function\")\n",
    "    return inner\n",
    "\n",
    "function=outer()#calling statement, outer return that will asing to function\n",
    "function1=outer#function aliasing\n",
    "function()\n",
    "print(function1())"
   ]
  }
 ],
 "metadata": {
  "interpreter": {
   "hash": "1fb55eeb694ecd958ee6cad186cb9906af405d203ad196fced457e2b60296c29"
  },
  "kernelspec": {
   "display_name": "Python 3.9.6 64-bit",
   "language": "python",
   "name": "python3"
  },
  "language_info": {
   "codemirror_mode": {
    "name": "ipython",
    "version": 3
   },
   "file_extension": ".py",
   "mimetype": "text/x-python",
   "name": "python",
   "nbconvert_exporter": "python",
   "pygments_lexer": "ipython3",
   "version": "3.9.6"
  },
  "orig_nbformat": 4
 },
 "nbformat": 4,
 "nbformat_minor": 2
}
